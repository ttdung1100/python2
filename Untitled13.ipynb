{
 "cells": [
  {
   "cell_type": "code",
   "execution_count": 7,
   "metadata": {},
   "outputs": [],
   "source": [
    "def sleep_in(weekday, vacation):\n",
    "  if not weekday or vacation:\n",
    "    return True\n",
    "  else:\n",
    "    return False\n",
    "  # This can be shortened to: return(not weekday or vacation)\n"
   ]
  },
  {
   "cell_type": "code",
   "execution_count": 8,
   "metadata": {},
   "outputs": [],
   "source": [
    "def monkey_trouble(a_smile, b_smile):\n",
    "  if a_smile and b_smile:\n",
    "    return True\n",
    "  if not a_smile and not b_smile:\n",
    "    return True\n",
    "  return False\n",
    "  ## The above can be shortened to:\n",
    "  ##   return ((a_smile and b_smile) or (not a_smile and not b_smile))\n",
    "  ## Or this very short version (think about how this is the same as the above)\n",
    "  ##   return (a_smile == b_smile)\n"
   ]
  },
  {
   "cell_type": "code",
   "execution_count": 17,
   "metadata": {},
   "outputs": [],
   "source": [
    "def sum_double(a, b):\n",
    "  # Store the sum in a local variable\n",
    "  sum = a + b\n",
    "  \n",
    "  # Double it if a and b are the same\n",
    "  if a == b:\n",
    "    sum = sum * 2\n",
    "  return sum\n"
   ]
  },
  {
   "cell_type": "code",
   "execution_count": 16,
   "metadata": {},
   "outputs": [],
   "source": [
    "def sum_double(a, b):\n",
    "  # Store the sum in a local variable\n",
    "  sum = a + b\n",
    "  \n",
    "  # Double it if a and b are the same\n",
    "  if a == b:\n",
    "    sum = sum * 2\n",
    "  return sum\n"
   ]
  },
  {
   "cell_type": "code",
   "execution_count": null,
   "metadata": {},
   "outputs": [],
   "source": []
  }
 ],
 "metadata": {
  "kernelspec": {
   "display_name": "Python 3",
   "language": "python",
   "name": "python3"
  },
  "language_info": {
   "name": ""
  }
 },
 "nbformat": 4,
 "nbformat_minor": 2
}
